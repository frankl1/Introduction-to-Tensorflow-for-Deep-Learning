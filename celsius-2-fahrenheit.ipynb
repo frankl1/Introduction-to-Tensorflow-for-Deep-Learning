{
  "nbformat": 4,
  "nbformat_minor": 0,
  "metadata": {
    "colab": {
      "name": "Untitled1.ipynb",
      "provenance": [],
      "collapsed_sections": [],
      "include_colab_link": true
    },
    "kernelspec": {
      "name": "python3",
      "display_name": "Python 3"
    }
  },
  "cells": [
    {
      "cell_type": "markdown",
      "metadata": {
        "id": "view-in-github",
        "colab_type": "text"
      },
      "source": [
        "<a href=\"https://colab.research.google.com/github/frankl1/Introduction-to-Tensorflow-for-Deep-Learning/blob/master/celsius-2-fahrenheit.ipynb\" target=\"_parent\"><img src=\"https://colab.research.google.com/assets/colab-badge.svg\" alt=\"Open In Colab\"/></a>"
      ]
    },
    {
      "cell_type": "code",
      "metadata": {
        "id": "2MbfR8HnvyXa",
        "colab_type": "code",
        "colab": {}
      },
      "source": [
        "import tensorflow as tf\n",
        "import numpy as np\n",
        "import logging"
      ],
      "execution_count": 0,
      "outputs": []
    },
    {
      "cell_type": "code",
      "metadata": {
        "id": "O-r1fhlcxwSM",
        "colab_type": "code",
        "colab": {}
      },
      "source": [
        "logger = tf.get_logger()\n",
        "logger.setLevel(logging.ERROR)"
      ],
      "execution_count": 0,
      "outputs": []
    },
    {
      "cell_type": "code",
      "metadata": {
        "id": "Fct1Y39ZyU2T",
        "colab_type": "code",
        "colab": {
          "base_uri": "https://localhost:8080/",
          "height": 136
        },
        "outputId": "c6466d04-582f-4a6e-adf7-fd0bf809d680"
      },
      "source": [
        "celsius_q = np.array([-40, -10, 0, 8, 15, 22, 38], dtype=float)\n",
        "fahrenheit_a = np.array([-40, 14, 32, 46, 59, 72, 100])\n",
        "\n",
        "for i, c in enumerate(celsius_q):\n",
        "  print(f\"{c} degrees Celsius = {fahrenheit_a[i]} degrees Fahrenheit\")"
      ],
      "execution_count": 41,
      "outputs": [
        {
          "output_type": "stream",
          "text": [
            "-40.0 degrees Celsius = -40 degrees Fahrenheit\n",
            "-10.0 degrees Celsius = 14 degrees Fahrenheit\n",
            "0.0 degrees Celsius = 32 degrees Fahrenheit\n",
            "8.0 degrees Celsius = 46 degrees Fahrenheit\n",
            "15.0 degrees Celsius = 59 degrees Fahrenheit\n",
            "22.0 degrees Celsius = 72 degrees Fahrenheit\n",
            "38.0 degrees Celsius = 100 degrees Fahrenheit\n"
          ],
          "name": "stdout"
        }
      ]
    },
    {
      "cell_type": "code",
      "metadata": {
        "id": "WTPZSYCzzdg3",
        "colab_type": "code",
        "colab": {}
      },
      "source": [
        "l0 = tf.keras.layers.Dense(units=1, input_shape=[1]);"
      ],
      "execution_count": 0,
      "outputs": []
    },
    {
      "cell_type": "code",
      "metadata": {
        "id": "sre7bYg_zxGP",
        "colab_type": "code",
        "colab": {}
      },
      "source": [
        "model = tf.keras.models.Sequential([l0])\n",
        "model.compile(loss='mean_squared_error', optimizer=tf.keras.optimizers.Adam(0.1))"
      ],
      "execution_count": 0,
      "outputs": []
    },
    {
      "cell_type": "code",
      "metadata": {
        "id": "htUcB7aJ1jaL",
        "colab_type": "code",
        "colab": {
          "base_uri": "https://localhost:8080/",
          "height": 34
        },
        "outputId": "9980fbc7-de95-47e0-ce33-f443b2b5ec18"
      },
      "source": [
        "history = model.fit(x=celsius_q, y=fahrenheit_a, epochs=500, verbose=False)\n",
        "print(\"Finished training the model\")"
      ],
      "execution_count": 42,
      "outputs": [
        {
          "output_type": "stream",
          "text": [
            "Finished training the model\n"
          ],
          "name": "stdout"
        }
      ]
    },
    {
      "cell_type": "code",
      "metadata": {
        "id": "lqATm4Ci3AMH",
        "colab_type": "code",
        "colab": {
          "base_uri": "https://localhost:8080/",
          "height": 34
        },
        "outputId": "8cbc1b35-3946-40c6-b650-98eb395b1a33"
      },
      "source": [
        "history.history.keys()"
      ],
      "execution_count": 43,
      "outputs": [
        {
          "output_type": "execute_result",
          "data": {
            "text/plain": [
              "dict_keys(['loss'])"
            ]
          },
          "metadata": {
            "tags": []
          },
          "execution_count": 43
        }
      ]
    },
    {
      "cell_type": "code",
      "metadata": {
        "id": "ZO2jNdkw2qHO",
        "colab_type": "code",
        "colab": {
          "base_uri": "https://localhost:8080/",
          "height": 300
        },
        "outputId": "fdcc842f-51b0-4721-c4ac-23e58a279732"
      },
      "source": [
        "import matplotlib.pyplot as plt\n",
        "plt.xlabel(\"Epoch Number\")\n",
        "plt.ylabel('Loss Magnitude')\n",
        "plt.plot(history.history['loss'])"
      ],
      "execution_count": 44,
      "outputs": [
        {
          "output_type": "execute_result",
          "data": {
            "text/plain": [
              "[<matplotlib.lines.Line2D at 0x7f984fdff4a8>]"
            ]
          },
          "metadata": {
            "tags": []
          },
          "execution_count": 44
        },
        {
          "output_type": "display_data",
          "data": {
            "image/png": "[encoded data removed]",
            "text/plain": [
              "<Figure size 432x288 with 1 Axes>"
            ]
          },
          "metadata": {
            "tags": []
          }
        }
      ]
    },
    {
      "cell_type": "code",
      "metadata": {
        "id": "CxhNMc9b38k9",
        "colab_type": "code",
        "colab": {
          "base_uri": "https://localhost:8080/",
          "height": 51
        },
        "outputId": "d836b31f-be7d-489a-d809-d2703f272217"
      },
      "source": [
        "model.predict([100, 38])"
      ],
      "execution_count": 45,
      "outputs": [
        {
          "output_type": "execute_result",
          "data": {
            "text/plain": [
              "array([[211.74657],\n",
              "       [100.27047]], dtype=float32)"
            ]
          },
          "metadata": {
            "tags": []
          },
          "execution_count": 45
        }
      ]
    },
    {
      "cell_type": "code",
      "metadata": {
        "id": "A1lV3cYZ4EpH",
        "colab_type": "code",
        "colab": {
          "base_uri": "https://localhost:8080/",
          "height": 34
        },
        "outputId": "9e53ecc4-f3da-4349-ba68-3569650a1035"
      },
      "source": [
        "l0.get_weights()"
      ],
      "execution_count": 46,
      "outputs": [
        {
          "output_type": "execute_result",
          "data": {
            "text/plain": [
              "[array([[1.7980016]], dtype=float32), array([31.946402], dtype=float32)]"
            ]
          },
          "metadata": {
            "tags": []
          },
          "execution_count": 46
        }
      ]
    }
  ]
}